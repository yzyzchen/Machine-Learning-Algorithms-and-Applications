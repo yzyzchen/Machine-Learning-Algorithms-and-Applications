{
 "cells": [
  {
   "cell_type": "markdown",
   "id": "5e5aeee1-2103-4fb5-a2f2-84991484968b",
   "metadata": {},
   "source": [
    "# EECS 545 (WN 2024) Homework 2 Q2: Softmax Regression via Gradient Ascent\n",
    "\n",
    "<span class=\"instruction\">Before starting the assignment, please fill in the following cell.</span>"
   ]
  },
  {
   "cell_type": "code",
   "execution_count": null,
   "id": "093f2bf9-9252-4d9e-b8c3-3b5a0e99fb51",
   "metadata": {},
   "outputs": [],
   "source": [
    "###################################################################\n",
    "# Enter your first and last name, e.g. \"John Doe\"                 #\n",
    "# for example                                                     #\n",
    "# __NAME__ = \"Yunseok Jang\"                                       #\n",
    "# __UNIQID__ = \"yunseokj\"                                         #\n",
    "###################################################################\n",
    "raise NotImplementedError(\"TODO: Add your implementation here.\")\n",
    "###################################################################\n",
    "#                        END OF YOUR CODE                         #\n",
    "###################################################################\n",
    "\n",
    "print(f\"Your name and email: {__NAME__} <{__UNIQID__}@umich.edu>\")\n",
    "assert __NAME__ and __UNIQID__"
   ]
  },
  {
   "cell_type": "markdown",
   "id": "ecc5b473-5ec6-466d-a466-b0b077a8f3cc",
   "metadata": {},
   "source": [
    "# Softmax Regression via Gradient Ascent\n",
    "In this notebook you will implement a gradient ascent for softmax regression from a given dataset. \n",
    "\n",
    "Among various ways in computing gradient, we will use gradient ascent update rule derived in our homework.\n",
    "\n",
    "After implementing it, you will report the accuracy of your implementation."
   ]
  },
  {
   "cell_type": "markdown",
   "id": "00a2e071-6a48-44de-9012-d2e8b3cfe8b0",
   "metadata": {},
   "source": [
    "## Setup code\n",
    "Before getting started, we need to run some boilerplate code to set up our environment. You'll need to rerun this setup code each time you start the notebook. Let's start by checking whether we are using Python 3.11 or higher."
   ]
  },
  {
   "cell_type": "code",
   "execution_count": null,
   "id": "052268da-2212-488d-8a84-952c20c93b86",
   "metadata": {},
   "outputs": [],
   "source": [
    "import sys\n",
    "if sys.version_info[0] < 3:\n",
    "    raise Exception(\"You must use Python 3\")\n",
    "\n",
    "if sys.version_info[1] < 11:\n",
    "    print(\"Autograder will execute your code based on Python 3.11 environment. Please use Python 3.11 or higher to prevent any issues\")\n",
    "    print(\"You can create a conda environment with Python 3.11 like 'conda create --name eecs545 python=3.11'\")\n",
    "    raise Exception(\"Python 3 version is too low: {}\".format(sys.version))\n",
    "else:\n",
    "    print(\"You are good to go\")"
   ]
  },
  {
   "cell_type": "markdown",
   "id": "a2f7473e-f6f6-4103-a2db-6f6bac0a118e",
   "metadata": {},
   "source": [
    "First, run this cell load the [autoreload](https://ipython.readthedocs.io/en/stable/config/extensions/autoreload.html) extension. This allows us to edit `.py` source files, and re-import them into the notebook for a seamless editing and debugging experience."
   ]
  },
  {
   "cell_type": "code",
   "execution_count": null,
   "id": "4dfbe411-7f01-4bd1-96de-f84a51ce9ada",
   "metadata": {},
   "outputs": [],
   "source": [
    "%load_ext autoreload\n",
    "%autoreload 2"
   ]
  },
  {
   "cell_type": "markdown",
   "id": "5f00f238-ee5a-44aa-95b2-3d611aa43035",
   "metadata": {},
   "source": [
    "Once you located the `softmax_regression.py` correctly, run the following cell allow us to import from `softmax_regression.py`. If it works correctly, it should print the message:\n",
    "```Hello from softmax_regression.py```"
   ]
  },
  {
   "cell_type": "code",
   "execution_count": null,
   "id": "dfe48494-bfcf-4cd6-ab99-5683563d0b71",
   "metadata": {},
   "outputs": [],
   "source": [
    "from softmax_regression import hello\n",
    "hello()"
   ]
  },
  {
   "cell_type": "markdown",
   "id": "2097b152-ed0d-4389-b9e6-4df4c50d5741",
   "metadata": {},
   "source": [
    "Then, we run some setup code for this notebook: Import some useful packages and increase the default figure size."
   ]
  },
  {
   "cell_type": "code",
   "execution_count": null,
   "id": "b6662d2f-3952-4643-9dfb-10f08e79105b",
   "metadata": {},
   "outputs": [],
   "source": [
    "# install required libraries\n",
    "# !pip install numpy==1.24.1 scikit-learn==1.2.0\n",
    "\n",
    "# import libraries\n",
    "import math\n",
    "import numpy as np"
   ]
  },
  {
   "cell_type": "code",
   "execution_count": null,
   "id": "8b8a2590-57e7-46b1-9b5f-0b13f41accd2",
   "metadata": {},
   "outputs": [],
   "source": [
    "from IPython.display import display_html, HTML\n",
    "\n",
    "display_html(HTML('''\n",
    "<style type=\"text/css\">\n",
    "  .instruction { background-color: yellow; font-weight:bold; padding: 3px; }\n",
    "</style>\n",
    "'''));"
   ]
  },
  {
   "cell_type": "markdown",
   "id": "cb67a55b-7773-46b7-8d27-3694ecb8c655",
   "metadata": {},
   "source": [
    "## Load the dataset\n",
    "The following codebase will load the dataset and print out the dimension of each file."
   ]
  },
  {
   "cell_type": "code",
   "execution_count": null,
   "id": "6ef9c7e3",
   "metadata": {},
   "outputs": [],
   "source": [
    "import os\n",
    "filename = 'data/q2_data.npz'\n",
    "\n",
    "assert os.path.exists(filename), f\"{filename} cannot be found.\"\n",
    "\n",
    "q2_data = np.load(filename)\n",
    "for k, v in q2_data.items():\n",
    "    print(f'Key \"{k}\" has shape {v.shape}')\n",
    "    print(f'First three rows of {k} are {v[:3]}')\n",
    "\n",
    "num_classes = len(np.unique(q2_data['q2y_test']))\n",
    "print(f'We have {num_classes} different classes in our dataset')"
   ]
  },
  {
   "cell_type": "markdown",
   "id": "9a8490a5-8677-43ad-9da8-7f85997f2312",
   "metadata": {},
   "source": [
    "Note: In this problem, the indexes in y starts from 1. We have three classes now, but please be aware that we will test with various number of classes in Autograder."
   ]
  },
  {
   "cell_type": "code",
   "execution_count": null,
   "id": "a949e310-a67f-4f50-80f2-f815d6ac8335",
   "metadata": {},
   "outputs": [],
   "source": [
    "print(np.unique(q2_data['q2y_train']))\n",
    "print(np.unique(q2_data['q2y_test']))"
   ]
  },
  {
   "cell_type": "markdown",
   "id": "991f69e2-e02c-4295-b8d0-6a1f8723625c",
   "metadata": {},
   "source": [
    "## Fit W to the train set of the data\n",
    "\n",
    "Now that we have prepared our data, it is time to implement the gradient ascent algorithm for softmax regression. As the first step to implment, we will first implement the softmax probability computation. <span class=\"instruction\">In the file `softmax_regression.py`, implement the function `compute_softmax_probs` that computes softmax for the data X and weight W.</span> You should double-check the numeric stability of your `compute_softmax_probs` implementations.\n",
    "\n",
    "After implementing the softmax function, we will compute the weight W by fitting the train set. In this problem, we will use the gradient ascent algorithm in. <span class=\"instruction\">Please implement gradient ascent in `gradient_ascent_train` of `softmax_regression.py`.</span>\n",
    "\n",
    "We then measure the accuracy with respect to W. You need to implement `compute_accuracy` function in `softmax_regression.py`. Once you correctly implement all the codes, you should be able to get an accuracy above 90%."
   ]
  },
  {
   "cell_type": "code",
   "execution_count": null,
   "id": "0ac8ca8b-ff70-4149-9e34-94c8e0f44dd0",
   "metadata": {},
   "outputs": [],
   "source": [
    "from softmax_regression import gradient_ascent_train, compute_accuracy\n",
    "import numpy as np\n",
    "\n",
    "np.random.seed(0)\n",
    "your_accuracy = None\n",
    "W = gradient_ascent_train(q2_data['q2x_train'], q2_data['q2y_train'], num_classes)\n",
    "print(W.shape)\n",
    "\n",
    "your_accuracy = compute_accuracy(q2_data['q2x_test'], q2_data['q2y_test'], W, num_classes) * 100\n",
    "print(f'The accuracy of Softmax Regression - our implementation: {your_accuracy:.2f}%')"
   ]
  },
  {
   "cell_type": "markdown",
   "id": "76a2b45e-e7c0-462f-999b-839f321aa537",
   "metadata": {},
   "source": [
    "## Bonus: Performance comparison with SciKit-Learn\n",
    "\n",
    "At the end of this question, we would like to check whether our performance is reasonable or not. Here, we use [Logistic Regression](https://scikit-learn.org/stable/modules/generated/sklearn.linear_model.LogisticRegression.html) from [SciKit-Learn](https://scikit-learn.org/stable/). You should be able to get similar (or could be even better) performance as scikit-learn's one."
   ]
  },
  {
   "cell_type": "code",
   "execution_count": null,
   "id": "5df36c8f-63cf-45ad-ba99-df8e95d08305",
   "metadata": {},
   "outputs": [],
   "source": [
    "# !pip install scikit-learn if you haven't done so\n",
    "from sklearn.linear_model import LogisticRegression\n",
    "\n",
    "# check the previous cell output\n",
    "assert your_accuracy is not None\n",
    "\n",
    "# Note: accuracy varies depends on the solver\n",
    "MLR = LogisticRegression(multi_class='multinomial',solver ='newton-cg')\n",
    "MLR.fit(q2_data['q2x_train'], np.reshape(q2_data['q2y_train'], -1) - 1)\n",
    "\n",
    "# Generate predictions and compute accuracy\n",
    "preds = MLR.predict(q2_data['q2x_test']) + 1  # the shape is (50, )\n",
    "preds = preds[:, np.newaxis]\n",
    "\n",
    "# Count the number of matched label\n",
    "accuracy = 100 * np.mean((preds == q2_data['q2y_test']).astype(np.float32))\n",
    "\n",
    "print(f'The accuracy of Sklearn Logistic Regression is: {accuracy:.2f}%')\n",
    "print(f'Please compare with the accuracy of your implementation: {your_accuracy:.2f}%')"
   ]
  },
  {
   "cell_type": "code",
   "execution_count": null,
   "id": "1c947dc2-a0f2-405b-849f-b0fe1f624e57",
   "metadata": {},
   "outputs": [],
   "source": []
  }
 ],
 "metadata": {
  "kernelspec": {
   "display_name": "Python 3 (ipykernel)",
   "language": "python",
   "name": "python3"
  },
  "language_info": {
   "codemirror_mode": {
    "name": "ipython",
    "version": 3
   },
   "file_extension": ".py",
   "mimetype": "text/x-python",
   "name": "python",
   "nbconvert_exporter": "python",
   "pygments_lexer": "ipython3",
   "version": "3.11.7"
  },
  "vscode": {
   "interpreter": {
    "hash": "2ba2a209815784366240b8267631058b7e458db02e86420b260ce79fd050cea5"
   }
  }
 },
 "nbformat": 4,
 "nbformat_minor": 5
}
